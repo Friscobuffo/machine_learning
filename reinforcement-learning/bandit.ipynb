{
 "cells": [
  {
   "cell_type": "code",
   "execution_count": 10,
   "metadata": {},
   "outputs": [],
   "source": [
    "import numpy as np\n",
    "\n",
    "def bandit(a):\n",
    "    if a==0: return np.random.normal(loc=0.6)\n",
    "    if a==1: return np.random.normal(loc=-0.5)\n",
    "    if a==2: return np.random.normal(loc=0.7)\n",
    "    if a==3: return np.random.normal(loc=0.1)\n",
    "    return np.random.normal(loc=-0.1)"
   ]
  },
  {
   "cell_type": "code",
   "execution_count": 14,
   "metadata": {},
   "outputs": [],
   "source": [
    "n = np.zeros(5)\n",
    "q = np.zeros(5)\n",
    "for i in range(1_000_000):\n",
    "    if np.random.random() < 0.1:\n",
    "        choice = np.random.randint(0,5)\n",
    "    else:\n",
    "        choice = np.argmax(q)\n",
    "    reward = bandit(choice)\n",
    "    n[choice] += 1\n",
    "    q[choice] = q[choice] + (reward-q[choice])/n[choice]"
   ]
  },
  {
   "cell_type": "code",
   "execution_count": 13,
   "metadata": {},
   "outputs": [
    {
     "name": "stdout",
     "output_type": "stream",
     "text": [
      "0\n",
      "[ 0.57775989 -0.3519919   0.49497012 -0.0421196  -0.04464426]\n"
     ]
    }
   ],
   "source": [
    "print(np.argmax(q))\n",
    "print(q)"
   ]
  }
 ],
 "metadata": {
  "kernelspec": {
   "display_name": "project-ml",
   "language": "python",
   "name": "python3"
  },
  "language_info": {
   "codemirror_mode": {
    "name": "ipython",
    "version": 3
   },
   "file_extension": ".py",
   "mimetype": "text/x-python",
   "name": "python",
   "nbconvert_exporter": "python",
   "pygments_lexer": "ipython3",
   "version": "3.10.11"
  },
  "orig_nbformat": 4
 },
 "nbformat": 4,
 "nbformat_minor": 2
}
