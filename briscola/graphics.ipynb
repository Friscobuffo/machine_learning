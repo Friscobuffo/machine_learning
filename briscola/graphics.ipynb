{
 "cells": [
  {
   "cell_type": "code",
   "execution_count": 75,
   "metadata": {},
   "outputs": [],
   "source": [
    "BOARDSIZE = 13,16\n",
    "UPLEFTCORNER = 1,2\n",
    "DOWNLEFTCORNER = 9,2\n",
    "CENTERLEFTCORNER = int((UPLEFTCORNER[0]+DOWNLEFTCORNER[0])/2), UPLEFTCORNER[1]+2"
   ]
  },
  {
   "cell_type": "code",
   "execution_count": null,
   "metadata": {},
   "outputs": [],
   "source": [
    "class Board():\n",
    "    def __init__(self):       \n",
    "        self.board = self.initialize()\n",
    "\n",
    "    def initialize(self):\n",
    "        board = []\n",
    "        for _ in range(BOARDSIZE[0]):\n",
    "            board.append(BOARDSIZE[1]*[\" \"])\n",
    "        # upleft three cards\n",
    "        i,j = UPLEFTCORNER\n",
    "        for elem in \"╔══╗ ╔══╗ ╔══╗\":\n",
    "            board[i][j]=elem\n",
    "            j+=1\n",
    "        j = UPLEFTCORNER[1]\n",
    "        for elem in \"║  ║ ║  ║ ║  ║\":\n",
    "            board[i+1][j]=elem\n",
    "            j+=1\n",
    "        j = UPLEFTCORNER[1]\n",
    "        for elem in \"╚══╝ ╚══╝ ╚══╝\":\n",
    "            board[i+2][j]=elem\n",
    "            j+=1\n",
    "        # downleft three cards\n",
    "        i,j = DOWNLEFTCORNER\n",
    "        for elem in \"╔══╗ ╔══╗ ╔══╗\":\n",
    "            board[i][j]=elem\n",
    "            j+=1\n",
    "        j = DOWNLEFTCORNER[1]\n",
    "        for elem in \"║  ║ ║  ║ ║  ║\":\n",
    "            board[i+1][j]=elem\n",
    "            j+=1\n",
    "        j = DOWNLEFTCORNER[1]\n",
    "        for elem in \"╚══╝ ╚══╝ ╚══╝\":\n",
    "            board[i+2][j]=elem\n",
    "            j+=1\n",
    "        # center two cards\n",
    "        # downleft three cards\n",
    "        i,j = CENTERLEFTCORNER\n",
    "        for elem in \"╔══╗ ╔══╗\":\n",
    "            board[i][j]=elem\n",
    "            j+=1\n",
    "        j = CENTERLEFTCORNER[1]\n",
    "        for elem in \"║  ║ ║  ║\":\n",
    "            board[i+1][j]=elem\n",
    "            j+=1\n",
    "        j = CENTERLEFTCORNER[1]\n",
    "        for elem in \"╚══╝ ╚══╝\":\n",
    "            board[i+2][j]=elem\n",
    "            j+=1\n",
    "        return board\n",
    "    \n",
    "    def printBoard(self):\n",
    "        for row in self.board:\n",
    "            for elem in row:\n",
    "                print(elem, end=\"\")\n",
    "            print()\n",
    "\n",
    "    def updateHand(self):\n",
    "        pass"
   ]
  },
  {
   "cell_type": "code",
   "execution_count": 76,
   "metadata": {},
   "outputs": [
    {
     "name": "stdout",
     "output_type": "stream",
     "text": [
      "                \n",
      "  ╔══╗ ╔══╗ ╔══╗\n",
      "  ║  ║ ║  ║ ║  ║\n",
      "  ╚══╝ ╚══╝ ╚══╝\n",
      "                \n",
      "    ╔══╗ ╔══╗   \n",
      "    ║  ║ ║  ║   \n",
      "    ╚══╝ ╚══╝   \n",
      "                \n",
      "  ╔══╗ ╔══╗ ╔══╗\n",
      "  ║  ║ ║  ║ ║  ║\n",
      "  ╚══╝ ╚══╝ ╚══╝\n",
      "                \n"
     ]
    }
   ],
   "source": []
  }
 ],
 "metadata": {
  "kernelspec": {
   "display_name": "machine-learning",
   "language": "python",
   "name": "python3"
  },
  "language_info": {
   "codemirror_mode": {
    "name": "ipython",
    "version": 3
   },
   "file_extension": ".py",
   "mimetype": "text/x-python",
   "name": "python",
   "nbconvert_exporter": "python",
   "pygments_lexer": "ipython3",
   "version": "3.10.11"
  },
  "orig_nbformat": 4
 },
 "nbformat": 4,
 "nbformat_minor": 2
}
