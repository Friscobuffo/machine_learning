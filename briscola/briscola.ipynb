{
 "cells": [
  {
   "cell_type": "code",
   "execution_count": 472,
   "metadata": {},
   "outputs": [],
   "source": [
    "import numpy as np"
   ]
  },
  {
   "cell_type": "code",
   "execution_count": 473,
   "metadata": {},
   "outputs": [],
   "source": [
    "def puntiCarta(carta):\n",
    "    valore = carta%10 + 1\n",
    "    if valore == 1: return 11\n",
    "    if valore == 3: return 10\n",
    "    if valore >= 8: return valore - 6\n",
    "    return 0\n",
    "\n",
    "class Mazzo:\n",
    "    def __init__(self):\n",
    "        self.carte = []\n",
    "        for carta in range (0,40):\n",
    "            self.carte.append(carta)\n",
    "    \n",
    "    def carteRimaste(self):\n",
    "        return len(self.carte)\n",
    "    \n",
    "    def pesca(self):\n",
    "        if self.carteRimaste() == 0:\n",
    "            return None\n",
    "        if self.carteRimaste() == 1:\n",
    "            return self.carte.pop()\n",
    "        n = np.random.randint(0, self.carteRimaste())\n",
    "        return self.carte.pop(n)"
   ]
  },
  {
   "cell_type": "code",
   "execution_count": 474,
   "metadata": {},
   "outputs": [],
   "source": [
    "class Briscola:\n",
    "    def __init__(self):\n",
    "        self.mazzo = Mazzo()\n",
    "        self.cartaInFondo = self.mazzo.pesca()\n",
    "        self.briscola = int(self.cartaInFondo/10)\n",
    "        self.mano0 = []\n",
    "        self.mano1 = []\n",
    "        for _ in range(3):\n",
    "            self.mano0.append(self.mazzo.pesca())\n",
    "            self.mano1.append(self.mazzo.pesca())\n",
    "        self.cartaTirata = self.mano0.pop()\n",
    "\n",
    "    def fasePescata(self):\n",
    "        pescata = self.mazzo.pesca()\n",
    "        self.mano0.append(pescata)\n",
    "        pescata = self.mazzo.pesca()\n",
    "        self.mano1.append(pescata)\n",
    "    \n",
    "    def cartaVincente(self, carta0, carta1):\n",
    "        seme0 = int(carta0/10)\n",
    "        seme1 = int(carta1/10)\n",
    "        if seme0 == seme1:\n",
    "            if puntiCarta(carta0) > puntiCarta(carta1): return carta0\n",
    "            if puntiCarta(carta0) < puntiCarta(carta1): return carta1\n",
    "            if carta0 > carta1: return carta0\n",
    "            return carta1\n",
    "        if seme0 == self.briscola: return carta0\n",
    "        if seme1 == self.briscola: return carta1\n",
    "        return carta0\n",
    "    \n",
    "    def partitaFinita(self):\n",
    "        return self.mazzo.carteRimaste() <= 32"
   ]
  },
  {
   "cell_type": "code",
   "execution_count": 475,
   "metadata": {},
   "outputs": [],
   "source": [
    "import gym\n",
    "from gym import spaces\n",
    "\n",
    "class NewEnv(gym.Env):\n",
    "    metadata = {'render.modes': ['human']}\n",
    "    def __init__(self):\n",
    "        super(NewEnv, self).__init__()\n",
    "        self.observation_space = spaces.MultiDiscrete([40, # carte in mano\n",
    "                                                       40,\n",
    "                                                       40,\n",
    "                                                       4, # briscola\n",
    "                                                       40]) # carta tirata\n",
    "        self.action_space = spaces.Discrete(3)\n",
    "        self.reward = 0\n",
    "        self.briscola = Briscola()\n",
    "        self.state = (self.briscola.mano1[0],\n",
    "                      self.briscola.mano1[1],\n",
    "                      self.briscola.mano1[2],\n",
    "                      self.briscola.briscola,\n",
    "                      self.briscola.cartaTirata)\n",
    "\n",
    "    def step(self, posizioneCarta):\n",
    "        done = False\n",
    "        info = {}\n",
    "\n",
    "        cartaPrimo = self.briscola.cartaTirata\n",
    "        cartaSecondo = self.briscola.mano1.pop(posizioneCarta)\n",
    "        cartaVincente = self.briscola.cartaVincente(cartaPrimo, cartaSecondo)\n",
    "        reward = puntiCarta(cartaPrimo) + puntiCarta(cartaSecondo)\n",
    "        if cartaSecondo != cartaVincente:\n",
    "            reward *= 0\n",
    "        self.briscola.fasePescata()\n",
    "        self.briscola.cartaTirata = self.briscola.mano0.pop()\n",
    "        if self.briscola.partitaFinita():\n",
    "            done = True\n",
    "\n",
    "        observation = (self.briscola.mano1[0],\n",
    "                      self.briscola.mano1[1],\n",
    "                      self.briscola.mano1[2],\n",
    "                      self.briscola.briscola,\n",
    "                      self.briscola.cartaTirata)\n",
    "        \n",
    "        return observation, reward, done, info\n",
    "    \n",
    "    def reset(self):\n",
    "        self.reward = 0\n",
    "        self.briscola = Briscola()\n",
    "        observation = (self.briscola.mano1[0],\n",
    "                      self.briscola.mano1[1],\n",
    "                      self.briscola.mano1[2],\n",
    "                      self.briscola.briscola,\n",
    "                      self.briscola.cartaTirata)\n",
    "        return observation\n",
    "    \n",
    "    def close (self):\n",
    "        self.reset()"
   ]
  },
  {
   "cell_type": "code",
   "execution_count": 476,
   "metadata": {},
   "outputs": [
    {
     "data": {
      "text/html": [
       "<style>#sk-container-id-22 {color: black;background-color: white;}#sk-container-id-22 pre{padding: 0;}#sk-container-id-22 div.sk-toggleable {background-color: white;}#sk-container-id-22 label.sk-toggleable__label {cursor: pointer;display: block;width: 100%;margin-bottom: 0;padding: 0.3em;box-sizing: border-box;text-align: center;}#sk-container-id-22 label.sk-toggleable__label-arrow:before {content: \"▸\";float: left;margin-right: 0.25em;color: #696969;}#sk-container-id-22 label.sk-toggleable__label-arrow:hover:before {color: black;}#sk-container-id-22 div.sk-estimator:hover label.sk-toggleable__label-arrow:before {color: black;}#sk-container-id-22 div.sk-toggleable__content {max-height: 0;max-width: 0;overflow: hidden;text-align: left;background-color: #f0f8ff;}#sk-container-id-22 div.sk-toggleable__content pre {margin: 0.2em;color: black;border-radius: 0.25em;background-color: #f0f8ff;}#sk-container-id-22 input.sk-toggleable__control:checked~div.sk-toggleable__content {max-height: 200px;max-width: 100%;overflow: auto;}#sk-container-id-22 input.sk-toggleable__control:checked~label.sk-toggleable__label-arrow:before {content: \"▾\";}#sk-container-id-22 div.sk-estimator input.sk-toggleable__control:checked~label.sk-toggleable__label {background-color: #d4ebff;}#sk-container-id-22 div.sk-label input.sk-toggleable__control:checked~label.sk-toggleable__label {background-color: #d4ebff;}#sk-container-id-22 input.sk-hidden--visually {border: 0;clip: rect(1px 1px 1px 1px);clip: rect(1px, 1px, 1px, 1px);height: 1px;margin: -1px;overflow: hidden;padding: 0;position: absolute;width: 1px;}#sk-container-id-22 div.sk-estimator {font-family: monospace;background-color: #f0f8ff;border: 1px dotted black;border-radius: 0.25em;box-sizing: border-box;margin-bottom: 0.5em;}#sk-container-id-22 div.sk-estimator:hover {background-color: #d4ebff;}#sk-container-id-22 div.sk-parallel-item::after {content: \"\";width: 100%;border-bottom: 1px solid gray;flex-grow: 1;}#sk-container-id-22 div.sk-label:hover label.sk-toggleable__label {background-color: #d4ebff;}#sk-container-id-22 div.sk-serial::before {content: \"\";position: absolute;border-left: 1px solid gray;box-sizing: border-box;top: 0;bottom: 0;left: 50%;z-index: 0;}#sk-container-id-22 div.sk-serial {display: flex;flex-direction: column;align-items: center;background-color: white;padding-right: 0.2em;padding-left: 0.2em;position: relative;}#sk-container-id-22 div.sk-item {position: relative;z-index: 1;}#sk-container-id-22 div.sk-parallel {display: flex;align-items: stretch;justify-content: center;background-color: white;position: relative;}#sk-container-id-22 div.sk-item::before, #sk-container-id-22 div.sk-parallel-item::before {content: \"\";position: absolute;border-left: 1px solid gray;box-sizing: border-box;top: 0;bottom: 0;left: 50%;z-index: -1;}#sk-container-id-22 div.sk-parallel-item {display: flex;flex-direction: column;z-index: 1;position: relative;background-color: white;}#sk-container-id-22 div.sk-parallel-item:first-child::after {align-self: flex-end;width: 50%;}#sk-container-id-22 div.sk-parallel-item:last-child::after {align-self: flex-start;width: 50%;}#sk-container-id-22 div.sk-parallel-item:only-child::after {width: 0;}#sk-container-id-22 div.sk-dashed-wrapped {border: 1px dashed gray;margin: 0 0.4em 0.5em 0.4em;box-sizing: border-box;padding-bottom: 0.4em;background-color: white;}#sk-container-id-22 div.sk-label label {font-family: monospace;font-weight: bold;display: inline-block;line-height: 1.2em;}#sk-container-id-22 div.sk-label-container {text-align: center;}#sk-container-id-22 div.sk-container {/* jupyter's `normalize.less` sets `[hidden] { display: none; }` but bootstrap.min.css set `[hidden] { display: none !important; }` so we also need the `!important` here to be able to override the default hidden behavior on the sphinx rendered scikit-learn.org. See: https://github.com/scikit-learn/scikit-learn/issues/21755 */display: inline-block !important;position: relative;}#sk-container-id-22 div.sk-text-repr-fallback {display: none;}</style><div id=\"sk-container-id-22\" class=\"sk-top-container\"><div class=\"sk-text-repr-fallback\"><pre>MLPClassifier(hidden_layer_sizes=(25, 25))</pre><b>In a Jupyter environment, please rerun this cell to show the HTML representation or trust the notebook. <br />On GitHub, the HTML representation is unable to render, please try loading this page with nbviewer.org.</b></div><div class=\"sk-container\" hidden><div class=\"sk-item\"><div class=\"sk-estimator sk-toggleable\"><input class=\"sk-toggleable__control sk-hidden--visually\" id=\"sk-estimator-id-22\" type=\"checkbox\" checked><label for=\"sk-estimator-id-22\" class=\"sk-toggleable__label sk-toggleable__label-arrow\">MLPClassifier</label><div class=\"sk-toggleable__content\"><pre>MLPClassifier(hidden_layer_sizes=(25, 25))</pre></div></div></div></div></div>"
      ],
      "text/plain": [
       "MLPClassifier(hidden_layer_sizes=(25, 25))"
      ]
     },
     "execution_count": 476,
     "metadata": {},
     "output_type": "execute_result"
    }
   ],
   "source": [
    "from sklearn.neural_network import MLPClassifier\n",
    "\n",
    "#Create environment\n",
    "env = NewEnv()\n",
    "n_actions = env.action_space.n\n",
    "\n",
    "#Create agent\n",
    "agent = MLPClassifier(hidden_layer_sizes=(25,25))\n",
    "\n",
    "#initialize agent by feeding it with some random bullshit\n",
    "agent.fit([env.reset()]*n_actions,range(n_actions))"
   ]
  },
  {
   "cell_type": "code",
   "execution_count": 477,
   "metadata": {},
   "outputs": [],
   "source": [
    "def generate_session():\n",
    "    states,actions,total_reward = [],[],0\n",
    "    s = env.reset()    \n",
    "    while True:\n",
    "        a = np.random.choice(n_actions,p=agent.predict_proba([s])[0])\n",
    "        states.append(s)\n",
    "        actions.append(a)\n",
    "        s,r,done,_ = env.step(a)\n",
    "        total_reward+=r\n",
    "        if done:break\n",
    "    return states,actions,total_reward"
   ]
  },
  {
   "cell_type": "code",
   "execution_count": 478,
   "metadata": {},
   "outputs": [
    {
     "name": "stderr",
     "output_type": "stream",
     "text": [
      "/home/friscobuffo/anaconda3/envs/machine-learning/lib/python3.10/site-packages/sklearn/neural_network/_multilayer_perceptron.py:686: ConvergenceWarning: Stochastic Optimizer: Maximum iterations (200) reached and the optimization hasn't converged yet.\n",
      "  warnings.warn(\n",
      "/home/friscobuffo/anaconda3/envs/machine-learning/lib/python3.10/site-packages/sklearn/neural_network/_multilayer_perceptron.py:686: ConvergenceWarning: Stochastic Optimizer: Maximum iterations (200) reached and the optimization hasn't converged yet.\n",
      "  warnings.warn(\n"
     ]
    },
    {
     "name": "stdout",
     "output_type": "stream",
     "text": [
      "epoch 1 \tmean reward=1.77\tthreshold=0.00"
     ]
    },
    {
     "name": "stderr",
     "output_type": "stream",
     "text": [
      "/home/friscobuffo/anaconda3/envs/machine-learning/lib/python3.10/site-packages/sklearn/neural_network/_multilayer_perceptron.py:686: ConvergenceWarning: Stochastic Optimizer: Maximum iterations (200) reached and the optimization hasn't converged yet.\n",
      "  warnings.warn(\n",
      "/home/friscobuffo/anaconda3/envs/machine-learning/lib/python3.10/site-packages/sklearn/neural_network/_multilayer_perceptron.py:686: ConvergenceWarning: Stochastic Optimizer: Maximum iterations (200) reached and the optimization hasn't converged yet.\n",
      "  warnings.warn(\n"
     ]
    },
    {
     "name": "stdout",
     "output_type": "stream",
     "text": [
      "epoch 3 \tmean reward=1.71\tthreshold=0.00"
     ]
    },
    {
     "name": "stderr",
     "output_type": "stream",
     "text": [
      "/home/friscobuffo/anaconda3/envs/machine-learning/lib/python3.10/site-packages/sklearn/neural_network/_multilayer_perceptron.py:686: ConvergenceWarning: Stochastic Optimizer: Maximum iterations (200) reached and the optimization hasn't converged yet.\n",
      "  warnings.warn(\n",
      "/home/friscobuffo/anaconda3/envs/machine-learning/lib/python3.10/site-packages/sklearn/neural_network/_multilayer_perceptron.py:686: ConvergenceWarning: Stochastic Optimizer: Maximum iterations (200) reached and the optimization hasn't converged yet.\n",
      "  warnings.warn(\n"
     ]
    },
    {
     "name": "stdout",
     "output_type": "stream",
     "text": [
      "epoch 7 \tmean reward=1.79\tthreshold=0.00"
     ]
    },
    {
     "name": "stderr",
     "output_type": "stream",
     "text": [
      "/home/friscobuffo/anaconda3/envs/machine-learning/lib/python3.10/site-packages/sklearn/neural_network/_multilayer_perceptron.py:686: ConvergenceWarning: Stochastic Optimizer: Maximum iterations (200) reached and the optimization hasn't converged yet.\n",
      "  warnings.warn(\n",
      "/home/friscobuffo/anaconda3/envs/machine-learning/lib/python3.10/site-packages/sklearn/neural_network/_multilayer_perceptron.py:686: ConvergenceWarning: Stochastic Optimizer: Maximum iterations (200) reached and the optimization hasn't converged yet.\n",
      "  warnings.warn(\n"
     ]
    },
    {
     "name": "stdout",
     "output_type": "stream",
     "text": [
      "epoch 8 \tmean reward=2.17\tthreshold=0.00"
     ]
    },
    {
     "ename": "ValueError",
     "evalue": "'a' and 'p' must have same size",
     "output_type": "error",
     "traceback": [
      "\u001b[0;31m---------------------------------------------------------------------------\u001b[0m",
      "\u001b[0;31mValueError\u001b[0m                                Traceback (most recent call last)",
      "Cell \u001b[0;32mIn[478], line 6\u001b[0m\n\u001b[1;32m      2\u001b[0m percentile \u001b[39m=\u001b[39m \u001b[39m70\u001b[39m \u001b[39m#fit on top 30% (30 best samples)\u001b[39;00m\n\u001b[1;32m      4\u001b[0m \u001b[39mfor\u001b[39;00m i \u001b[39min\u001b[39;00m \u001b[39mrange\u001b[39m(\u001b[39m500\u001b[39m):\n\u001b[1;32m      5\u001b[0m     \u001b[39m#sample sessions\u001b[39;00m\n\u001b[0;32m----> 6\u001b[0m     sessions \u001b[39m=\u001b[39m [generate_session() \u001b[39mfor\u001b[39;00m _ \u001b[39min\u001b[39;00m \u001b[39mrange\u001b[39m(n_samples)]\n\u001b[1;32m      7\u001b[0m     batch_states,batch_actions,batch_rewards \u001b[39m=\u001b[39m \u001b[39mmap\u001b[39m(np\u001b[39m.\u001b[39marray,\u001b[39mzip\u001b[39m(\u001b[39m*\u001b[39msessions))\n\u001b[1;32m      9\u001b[0m     \u001b[39m#choose threshold on rewards\u001b[39;00m\n",
      "Cell \u001b[0;32mIn[478], line 6\u001b[0m, in \u001b[0;36m<listcomp>\u001b[0;34m(.0)\u001b[0m\n\u001b[1;32m      2\u001b[0m percentile \u001b[39m=\u001b[39m \u001b[39m70\u001b[39m \u001b[39m#fit on top 30% (30 best samples)\u001b[39;00m\n\u001b[1;32m      4\u001b[0m \u001b[39mfor\u001b[39;00m i \u001b[39min\u001b[39;00m \u001b[39mrange\u001b[39m(\u001b[39m500\u001b[39m):\n\u001b[1;32m      5\u001b[0m     \u001b[39m#sample sessions\u001b[39;00m\n\u001b[0;32m----> 6\u001b[0m     sessions \u001b[39m=\u001b[39m [generate_session() \u001b[39mfor\u001b[39;00m _ \u001b[39min\u001b[39;00m \u001b[39mrange\u001b[39m(n_samples)]\n\u001b[1;32m      7\u001b[0m     batch_states,batch_actions,batch_rewards \u001b[39m=\u001b[39m \u001b[39mmap\u001b[39m(np\u001b[39m.\u001b[39marray,\u001b[39mzip\u001b[39m(\u001b[39m*\u001b[39msessions))\n\u001b[1;32m      9\u001b[0m     \u001b[39m#choose threshold on rewards\u001b[39;00m\n",
      "Cell \u001b[0;32mIn[477], line 5\u001b[0m, in \u001b[0;36mgenerate_session\u001b[0;34m()\u001b[0m\n\u001b[1;32m      3\u001b[0m s \u001b[39m=\u001b[39m env\u001b[39m.\u001b[39mreset()    \n\u001b[1;32m      4\u001b[0m \u001b[39mwhile\u001b[39;00m \u001b[39mTrue\u001b[39;00m:\n\u001b[0;32m----> 5\u001b[0m     a \u001b[39m=\u001b[39m np\u001b[39m.\u001b[39;49mrandom\u001b[39m.\u001b[39;49mchoice(n_actions,p\u001b[39m=\u001b[39;49magent\u001b[39m.\u001b[39;49mpredict_proba([s])[\u001b[39m0\u001b[39;49m])\n\u001b[1;32m      6\u001b[0m     states\u001b[39m.\u001b[39mappend(s)\n\u001b[1;32m      7\u001b[0m     actions\u001b[39m.\u001b[39mappend(a)\n",
      "File \u001b[0;32mmtrand.pyx:951\u001b[0m, in \u001b[0;36mnumpy.random.mtrand.RandomState.choice\u001b[0;34m()\u001b[0m\n",
      "\u001b[0;31mValueError\u001b[0m: 'a' and 'p' must have same size"
     ]
    }
   ],
   "source": [
    "n_samples = 100\n",
    "percentile = 70 #fit on top 30% (30 best samples)\n",
    "\n",
    "for i in range(500):\n",
    "    #sample sessions\n",
    "    sessions = [generate_session() for _ in range(n_samples)]\n",
    "    batch_states,batch_actions,batch_rewards = map(np.array,zip(*sessions))\n",
    "    \n",
    "    #choose threshold on rewards\n",
    "    threshold = np.percentile(batch_rewards,percentile)\n",
    "    elite_states = np.concatenate(batch_states[batch_rewards>=threshold])\n",
    "    elite_actions = np.concatenate(batch_actions[batch_rewards>=threshold])\n",
    "    \n",
    "    #fit our osom neural network >.<\n",
    "    agent.fit(elite_states,elite_actions)\n",
    "\n",
    "    print(\"\\repoch %i \\tmean reward=%.2f\\tthreshold=%.2f\"%(i,batch_rewards.mean(),threshold), end=\"\")"
   ]
  },
  {
   "cell_type": "code",
   "execution_count": null,
   "metadata": {},
   "outputs": [],
   "source": [
    "def printCarta(carta):\n",
    "    seme = int(carta/10)\n",
    "    if seme == 0: seme=\"denara\"\n",
    "    elif seme == 1: seme=\"bastoni\"\n",
    "    elif seme == 2: seme=\"spade\"\n",
    "    else: seme=\"coppe\"\n",
    "    valore = str(carta%10 + 1)\n",
    "    print(valore + \" di \" + seme)\n",
    "\n",
    "def printBriscola(briscola):\n",
    "    if briscola == 0: print(\"denara\")\n",
    "    elif briscola == 1: print(\"bastoni\")\n",
    "    elif briscola == 2: print(\"spade\")\n",
    "    else: print(\"coppe\")"
   ]
  },
  {
   "cell_type": "code",
   "execution_count": null,
   "metadata": {},
   "outputs": [],
   "source": [
    "def printCarta(carta):\n",
    "    seme = int(carta/10)\n",
    "    if seme == 0: seme=\"denara\"\n",
    "    elif seme == 1: seme=\"bastoni\"\n",
    "    elif seme == 2: seme=\"spade\"\n",
    "    else: seme=\"coppe\"\n",
    "    valore = str(carta%10 + 1)\n",
    "    print(valore + \" di \" + seme)\n",
    "\n",
    "def printBriscola(briscola):\n",
    "    if briscola == 0: print(\"denara\")\n",
    "    elif briscola == 1: print(\"bastoni\")\n",
    "    elif briscola == 2: print(\"spade\")\n",
    "    else: print(\"coppe\")"
   ]
  },
  {
   "cell_type": "code",
   "execution_count": null,
   "metadata": {},
   "outputs": [
    {
     "name": "stdout",
     "output_type": "stream",
     "text": [
      "coppe\n",
      "1 di denara\n",
      "\n",
      "10 di bastoni\n",
      "4 di spade\n",
      "3 di spade\n",
      "[1 1 1]\n",
      "bastoni\n",
      "1 di bastoni\n",
      "\n",
      "2 di spade\n",
      "3 di bastoni\n",
      "6 di denara\n",
      "[1 1 1]\n",
      "coppe\n",
      "6 di denara\n",
      "\n",
      "5 di denara\n",
      "8 di denara\n",
      "3 di bastoni\n",
      "[1 1 1]\n",
      "spade\n",
      "7 di coppe\n",
      "\n",
      "10 di spade\n",
      "6 di coppe\n",
      "5 di coppe\n",
      "[1 1 1]\n",
      "bastoni\n",
      "6 di coppe\n",
      "\n",
      "10 di coppe\n",
      "9 di denara\n",
      "6 di denara\n",
      "[1 1 1]\n",
      "bastoni\n",
      "6 di bastoni\n",
      "\n",
      "10 di spade\n",
      "3 di denara\n",
      "6 di spade\n",
      "[1 1 1]\n",
      "spade\n",
      "9 di spade\n",
      "\n",
      "3 di coppe\n",
      "7 di denara\n",
      "3 di denara\n",
      "[1 1 1]\n"
     ]
    },
    {
     "ename": "KeyboardInterrupt",
     "evalue": "Interrupted by user",
     "output_type": "error",
     "traceback": [
      "\u001b[0;31m---------------------------------------------------------------------------\u001b[0m",
      "\u001b[0;31mKeyboardInterrupt\u001b[0m                         Traceback (most recent call last)",
      "Cell \u001b[0;32mIn[455], line 17\u001b[0m\n\u001b[1;32m     15\u001b[0m mossa \u001b[39m=\u001b[39m agent\u001b[39m.\u001b[39mpredict([state]\u001b[39m*\u001b[39mn_actions)\n\u001b[1;32m     16\u001b[0m \u001b[39mprint\u001b[39m(mossa)\n\u001b[0;32m---> 17\u001b[0m \u001b[39minput\u001b[39;49m()\n",
      "File \u001b[0;32m~/anaconda3/envs/machine-learning/lib/python3.10/site-packages/ipykernel/kernelbase.py:1177\u001b[0m, in \u001b[0;36mKernel.raw_input\u001b[0;34m(self, prompt)\u001b[0m\n\u001b[1;32m   1173\u001b[0m \u001b[39mif\u001b[39;00m \u001b[39mnot\u001b[39;00m \u001b[39mself\u001b[39m\u001b[39m.\u001b[39m_allow_stdin:\n\u001b[1;32m   1174\u001b[0m     \u001b[39mraise\u001b[39;00m StdinNotImplementedError(\n\u001b[1;32m   1175\u001b[0m         \u001b[39m\"\u001b[39m\u001b[39mraw_input was called, but this frontend does not support input requests.\u001b[39m\u001b[39m\"\u001b[39m\n\u001b[1;32m   1176\u001b[0m     )\n\u001b[0;32m-> 1177\u001b[0m \u001b[39mreturn\u001b[39;00m \u001b[39mself\u001b[39;49m\u001b[39m.\u001b[39;49m_input_request(\n\u001b[1;32m   1178\u001b[0m     \u001b[39mstr\u001b[39;49m(prompt),\n\u001b[1;32m   1179\u001b[0m     \u001b[39mself\u001b[39;49m\u001b[39m.\u001b[39;49m_parent_ident[\u001b[39m\"\u001b[39;49m\u001b[39mshell\u001b[39;49m\u001b[39m\"\u001b[39;49m],\n\u001b[1;32m   1180\u001b[0m     \u001b[39mself\u001b[39;49m\u001b[39m.\u001b[39;49mget_parent(\u001b[39m\"\u001b[39;49m\u001b[39mshell\u001b[39;49m\u001b[39m\"\u001b[39;49m),\n\u001b[1;32m   1181\u001b[0m     password\u001b[39m=\u001b[39;49m\u001b[39mFalse\u001b[39;49;00m,\n\u001b[1;32m   1182\u001b[0m )\n",
      "File \u001b[0;32m~/anaconda3/envs/machine-learning/lib/python3.10/site-packages/ipykernel/kernelbase.py:1219\u001b[0m, in \u001b[0;36mKernel._input_request\u001b[0;34m(self, prompt, ident, parent, password)\u001b[0m\n\u001b[1;32m   1216\u001b[0m             \u001b[39mbreak\u001b[39;00m\n\u001b[1;32m   1217\u001b[0m \u001b[39mexcept\u001b[39;00m \u001b[39mKeyboardInterrupt\u001b[39;00m:\n\u001b[1;32m   1218\u001b[0m     \u001b[39m# re-raise KeyboardInterrupt, to truncate traceback\u001b[39;00m\n\u001b[0;32m-> 1219\u001b[0m     \u001b[39mraise\u001b[39;00m \u001b[39mKeyboardInterrupt\u001b[39;00m(\u001b[39m\"\u001b[39m\u001b[39mInterrupted by user\u001b[39m\u001b[39m\"\u001b[39m) \u001b[39mfrom\u001b[39;00m \u001b[39mNone\u001b[39;00m\n\u001b[1;32m   1220\u001b[0m \u001b[39mexcept\u001b[39;00m \u001b[39mException\u001b[39;00m:\n\u001b[1;32m   1221\u001b[0m     \u001b[39mself\u001b[39m\u001b[39m.\u001b[39mlog\u001b[39m.\u001b[39mwarning(\u001b[39m\"\u001b[39m\u001b[39mInvalid Message:\u001b[39m\u001b[39m\"\u001b[39m, exc_info\u001b[39m=\u001b[39m\u001b[39mTrue\u001b[39;00m)\n",
      "\u001b[0;31mKeyboardInterrupt\u001b[0m: Interrupted by user"
     ]
    }
   ],
   "source": [
    "while True:\n",
    "    briscola = Briscola()\n",
    "    state = (briscola.mano1[0],\n",
    "             briscola.mano1[1],\n",
    "             briscola.mano1[2],\n",
    "             briscola.briscola,\n",
    "             briscola.cartaTirata)\n",
    "    printBriscola(briscola.briscola)\n",
    "    printCarta(briscola.cartaTirata)\n",
    "    print()\n",
    "    printCarta(briscola.mano1[0])\n",
    "    printCarta(briscola.mano1[1])\n",
    "    printCarta(briscola.mano1[2])\n",
    "\n",
    "    mossa = agent.predict([state]*n_actions)\n",
    "    print(mossa)\n",
    "    input()"
   ]
  }
 ],
 "metadata": {
  "kernelspec": {
   "display_name": "machine-learning",
   "language": "python",
   "name": "python3"
  },
  "language_info": {
   "codemirror_mode": {
    "name": "ipython",
    "version": 3
   },
   "file_extension": ".py",
   "mimetype": "text/x-python",
   "name": "python",
   "nbconvert_exporter": "python",
   "pygments_lexer": "ipython3",
   "version": "3.10.11"
  },
  "orig_nbformat": 4
 },
 "nbformat": 4,
 "nbformat_minor": 2
}
