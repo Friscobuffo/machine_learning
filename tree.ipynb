{
 "cells": [
  {
   "cell_type": "code",
   "execution_count": 11,
   "metadata": {},
   "outputs": [
    {
     "name": "stdout",
     "output_type": "stream",
     "text": [
      "[[1 1]\n",
      " [1 1]\n",
      " [1 0]\n",
      " [1 1]\n",
      " [0 0]\n",
      " [1 0]\n",
      " [0 0]\n",
      " [1 1]\n",
      " [0 1]\n",
      " [0 1]]\n",
      "[[0]\n",
      " [1]\n",
      " [0]\n",
      " [1]\n",
      " [0]\n",
      " [0]\n",
      " [1]\n",
      " [1]\n",
      " [0]\n",
      " [1]]\n"
     ]
    }
   ],
   "source": [
    "import numpy as np\n",
    "n = 10\n",
    "X = np.random.randint(0, 2, (n,2))\n",
    "# Y = np.random.randint(0, 1, (n,1))\n",
    "Y = np.random.randint(0, 2, (n,1))\n",
    "print(X)\n",
    "print(Y)"
   ]
  },
  {
   "cell_type": "code",
   "execution_count": 20,
   "metadata": {},
   "outputs": [
    {
     "name": "stdout",
     "output_type": "stream",
     "text": [
      "[0.5, 0.3]\n"
     ]
    }
   ],
   "source": [
    "costs = []\n",
    "for i in range(0,2):\n",
    "    c0 = 0\n",
    "    c1 = 0\n",
    "    c2, c3 = 0,0\n",
    "    tot=0\n",
    "    for x,[y] in zip(X[:,i], Y):\n",
    "        tot+=1\n",
    "        # print(x,y)\n",
    "        if x==0:\n",
    "            if y==0: c0 += 1\n",
    "            if y==1: c1 += 1\n",
    "        if x==1:\n",
    "            if y==0: c2 += 1\n",
    "            if y==1: c3 += 1\n",
    "        # print(c0,c1,c2,c3)\n",
    "    cMin = min(c0,c1)\n",
    "    cMin2 = min(c2,c3)\n",
    "    cTot = (cMin+cMin2)/tot\n",
    "    costs.append(cTot)\n",
    "print(costs)"
   ]
  }
 ],
 "metadata": {
  "kernelspec": {
   "display_name": "machine-learning",
   "language": "python",
   "name": "python3"
  },
  "language_info": {
   "codemirror_mode": {
    "name": "ipython",
    "version": 3
   },
   "file_extension": ".py",
   "mimetype": "text/x-python",
   "name": "python",
   "nbconvert_exporter": "python",
   "pygments_lexer": "ipython3",
   "version": "3.10.10"
  },
  "orig_nbformat": 4
 },
 "nbformat": 4,
 "nbformat_minor": 2
}
