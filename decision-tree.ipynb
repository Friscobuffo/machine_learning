{
 "cells": [
  {
   "cell_type": "code",
   "execution_count": 151,
   "metadata": {},
   "outputs": [],
   "source": [
    "import pandas as pd\n",
    "dataset = pd.read_csv(\"loan.csv\")"
   ]
  },
  {
   "cell_type": "code",
   "execution_count": 152,
   "metadata": {},
   "outputs": [
    {
     "name": "stdout",
     "output_type": "stream",
     "text": [
      "reputation -> ['excellent', 'bad', 'good']\n",
      "lenght -> [5, 3]\n",
      "income -> ['high', 'modest']\n",
      "y -> ['safe', 'risky']\n"
     ]
    }
   ],
   "source": [
    "nFeatures = len(dataset.columns) - 1\n",
    "featuresName = list(dataset.columns)\n",
    "featuresValues = dict()\n",
    "for row in dataset.itertuples():\n",
    "    for column,value in zip(featuresName,list(row[1:])):\n",
    "        if featuresValues.get(column) == None:\n",
    "            featuresValues[column] = [value]\n",
    "        else:\n",
    "            if value not in featuresValues[column]:\n",
    "                featuresValues[column].append(value)        \n",
    "featuresName = featuresName[:-1]\n",
    "for s in featuresValues:\n",
    "    print(s,\"->\",featuresValues[s])"
   ]
  },
  {
   "cell_type": "code",
   "execution_count": 153,
   "metadata": {},
   "outputs": [],
   "source": [
    "class Node:\n",
    "    def __init__(self):\n",
    "        self.parent = None\n",
    "        self.feature = None\n",
    "        self.link = None\n",
    "        self.childs = None\n",
    "        self.y = None\n",
    "    def next(self, value):\n",
    "        pass\n",
    "    def getRoute(self):\n",
    "        if self.parent == None:\n",
    "            if self.link == None:\n",
    "                return []\n",
    "            return [self.link]\n",
    "        return [self.link] + self.parent.getRoute()\n",
    "    def getFeaturesRoute(self):\n",
    "        if self.parent == None: return []\n",
    "        return [self.parent.feature] + self.parent.getFeaturesRoute()\n",
    "\n",
    "class Tree:\n",
    "    def __init__(self):\n",
    "        self.levels = 0\n",
    "        self.root = Node()\n",
    "    def getLeaves(self, node=None):\n",
    "        if node == None: node = self.root\n",
    "        if node.childs == None:\n",
    "            return [node]\n",
    "        return self.__getLeavesNodes(node.childs)\n",
    "    def __getLeavesNodes(self, nodes):\n",
    "        output = []\n",
    "        for node in nodes:\n",
    "            output.extend(self.getLeaves(node))\n",
    "        return output\n",
    "    def eval(self, row, names):\n",
    "        node = self.root\n",
    "        while node.y == None:\n",
    "            i = names.index(node.feature)\n",
    "            value = row[i]\n",
    "            for child in node.childs:\n",
    "                if child.link == value:\n",
    "                    node = child\n",
    "        return node.y"
   ]
  },
  {
   "cell_type": "code",
   "execution_count": 154,
   "metadata": {},
   "outputs": [],
   "source": [
    "tree = Tree()\n",
    "choosenFeatures = []\n",
    "Y = featuresValues[\"y\"]\n",
    "for level in range(len(featuresName)):\n",
    "    leaves = tree.getLeaves()\n",
    "    for l in leaves:\n",
    "        remainingFeatures = []\n",
    "        routeName = l.getFeaturesRoute()\n",
    "        route = l.getRoute()\n",
    "        for f in featuresName:\n",
    "            if f not in routeName:\n",
    "                remainingFeatures.append(f)\n",
    "        temp = dict()\n",
    "        for row in dataset.itertuples():\n",
    "            check = True\n",
    "            for fea,feaVal in zip(routeName,route):\n",
    "                i = featuresName.index(fea)\n",
    "                if feaVal != row[1:-1][i]:\n",
    "                    check = False\n",
    "            if check:\n",
    "                for elem,name in zip(row[1:-1],featuresName):\n",
    "                    if temp.get((name,elem,row[-1])) == None:\n",
    "                        temp[(name,elem,row[-1])] = 1\n",
    "                    else:\n",
    "                        temp[(name,elem,row[-1])] += 1\n",
    "        minErrorFeature = None\n",
    "        for f in remainingFeatures:\n",
    "            totCount = 0\n",
    "            best = []\n",
    "            for v in featuresValues[f]:\n",
    "                maxValue = 0\n",
    "                maxValueY = None\n",
    "                for y in Y:\n",
    "                    if (temp.get((f,v,y))) != None:\n",
    "                        totCount += (temp.get((f,v,y)))\n",
    "                        if temp.get((f,v,y)) > maxValue:\n",
    "                            maxValue = temp.get((f,v,y))\n",
    "                            maxValueY = y\n",
    "                best.append((v,maxValue,maxValueY))\n",
    "            good = 0\n",
    "            for _, number, _ in best:\n",
    "                good += number\n",
    "            errors = totCount - good\n",
    "            if minErrorFeature == None:\n",
    "                minErrorFeature = (errors, f, best)\n",
    "            else:\n",
    "                if errors < minErrorFeature[0]:\n",
    "                   minErrorFeature = (errors, f, best)\n",
    "        l.feature = minErrorFeature[1]\n",
    "        childs = []\n",
    "        for value,_,y in minErrorFeature[2]:\n",
    "            child = Node()\n",
    "            childs.append(child)\n",
    "            child.parent = l\n",
    "            child.link = value\n",
    "            child.y = y\n",
    "            if level == len(featuresName):\n",
    "                child.y = y\n",
    "        l.childs = childs"
   ]
  },
  {
   "cell_type": "code",
   "execution_count": 159,
   "metadata": {},
   "outputs": [
    {
     "name": "stdout",
     "output_type": "stream",
     "text": [
      "accuracy= 0.75\n"
     ]
    }
   ],
   "source": [
    "errors = 0\n",
    "predictions = 0\n",
    "for row in dataset.itertuples():\n",
    "    predictions += 1\n",
    "    prediction = tree.eval(row[1:-1],featuresName)\n",
    "    if prediction != row[-1]:\n",
    "        errors += 1\n",
    "print(\"accuracy=\",1-errors/predictions)"
   ]
  }
 ],
 "metadata": {
  "kernelspec": {
   "display_name": "machine-learning",
   "language": "python",
   "name": "python3"
  },
  "language_info": {
   "codemirror_mode": {
    "name": "ipython",
    "version": 3
   },
   "file_extension": ".py",
   "mimetype": "text/x-python",
   "name": "python",
   "nbconvert_exporter": "python",
   "pygments_lexer": "ipython3",
   "version": "3.10.10"
  },
  "orig_nbformat": 4
 },
 "nbformat": 4,
 "nbformat_minor": 2
}
